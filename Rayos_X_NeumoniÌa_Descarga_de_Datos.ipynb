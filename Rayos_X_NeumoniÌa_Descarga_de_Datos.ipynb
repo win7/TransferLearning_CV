{
  "nbformat": 4,
  "nbformat_minor": 0,
  "metadata": {
    "colab": {
      "provenance": [],
      "include_colab_link": true
    },
    "kernelspec": {
      "name": "python3",
      "display_name": "Python 3"
    },
    "language_info": {
      "name": "python"
    }
  },
  "cells": [
    {
      "cell_type": "markdown",
      "metadata": {
        "id": "view-in-github",
        "colab_type": "text"
      },
      "source": [
        "<a href=\"https://colab.research.google.com/github/win7/TransferLearning_CV/blob/main/Rayos_X_Neumoni%C3%8Ca_Descarga_de_Datos.ipynb\" target=\"_parent\"><img src=\"https://colab.research.google.com/assets/colab-badge.svg\" alt=\"Open In Colab\"/></a>"
      ]
    },
    {
      "cell_type": "markdown",
      "metadata": {
        "id": "JrB84NUp0j4F"
      },
      "source": [
        "**Dataset (Fuente):** https://europepmc.org/article/med/29474911"
      ]
    },
    {
      "cell_type": "code",
      "source": [
        "%cd /content/"
      ],
      "metadata": {
        "colab": {
          "base_uri": "https://localhost:8080/"
        },
        "id": "1LcOwlWUJMK0",
        "outputId": "252f07fb-9369-4e86-b3f3-2b87df6faea1"
      },
      "execution_count": null,
      "outputs": [
        {
          "output_type": "stream",
          "name": "stdout",
          "text": [
            "/content\n"
          ]
        }
      ]
    },
    {
      "cell_type": "code",
      "source": [
        "!git clone https://github.com/iapucp/X-Ray-Pneumonia-Images.git"
      ],
      "metadata": {
        "id": "1_xCl3HvDLm0",
        "colab": {
          "base_uri": "https://localhost:8080/"
        },
        "outputId": "0c79ffcc-8888-47e3-c181-3d3a011ab965"
      },
      "execution_count": null,
      "outputs": [
        {
          "output_type": "stream",
          "name": "stdout",
          "text": [
            "Cloning into 'X-Ray-Pneumonia-Images'...\n",
            "remote: Enumerating objects: 5826, done.\u001b[K\n",
            "remote: Total 5826 (delta 0), reused 0 (delta 0), pack-reused 5826\u001b[K\n",
            "Receiving objects: 100% (5826/5826), 1.13 GiB | 34.37 MiB/s, done.\n",
            "Checking out files: 100% (5856/5856), done.\n"
          ]
        }
      ]
    },
    {
      "cell_type": "code",
      "metadata": {
        "id": "-zjGu6gvCYKW",
        "colab": {
          "base_uri": "https://localhost:8080/"
        },
        "outputId": "df3e5617-f541-40da-dcc3-5aac7af5a2c8"
      },
      "source": [
        "%ls"
      ],
      "execution_count": null,
      "outputs": [
        {
          "output_type": "stream",
          "name": "stdout",
          "text": [
            "\u001b[0m\u001b[01;34msample_data\u001b[0m/  \u001b[01;34mX-Ray-Pneumonia-Images\u001b[0m/\n"
          ]
        }
      ]
    }
  ]
}